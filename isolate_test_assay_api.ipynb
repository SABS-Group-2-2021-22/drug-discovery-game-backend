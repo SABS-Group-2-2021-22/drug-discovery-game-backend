{
 "cells": [
  {
   "cell_type": "code",
   "execution_count": 13,
   "metadata": {},
   "outputs": [],
   "source": [
    "from src.Molecule import R_group, Molecule, FinalMolecule\n",
    "from flask import Flask, jsonify, request"
   ]
  },
  {
   "cell_type": "code",
   "execution_count": 14,
   "metadata": {},
   "outputs": [],
   "source": [
    "global assayed_molecules\n",
    "assayed_molecules = {}\n",
    "global money\n",
    "money = [100000.0]\n",
    "\n",
    "global time\n",
    "time = [30.0]"
   ]
  },
  {
   "cell_type": "code",
   "execution_count": 15,
   "metadata": {},
   "outputs": [],
   "source": [
    "def tuple2str(tuple_in):\n",
    "    \"\"\"Converts a tuple into a string\n",
    "\n",
    "    :param tuple_in: tuple to convery\n",
    "    :type tuple_in: tuple\n",
    "    :returns: concatenated string version of the tuple\n",
    "    :rtype: str\n",
    "    \"\"\"\n",
    "    string = ''\n",
    "    for i in tuple_in:\n",
    "        string += str(i)\n",
    "    return string"
   ]
  },
  {
   "cell_type": "code",
   "execution_count": 18,
   "metadata": {},
   "outputs": [],
   "source": [
    "def run_assays(r_group_1_id, r_group_2_id, assay_list):\n",
    "    \"\"\"Runs assays selected for a specific molecule, tracking the reduction of\n",
    "    time and money as a result.\n",
    "    The longest time of the assays being run is taken from the total amount of\n",
    "    time.\n",
    "    The sum of the cost of the assays is taken from the total amount of money.\n",
    "    Pass R group IDs as queries: /assays?r1=A01&r2=B10... and Yes or No for\n",
    "    each assay,\n",
    "    ...&pic50=Yes&clearance_mouse=No&clearance_human=Yes&logd=No&pampa=Yes.\n",
    "\n",
    "    :returns: A json dictionary of which molecules have been assayed, indexed\n",
    "    by the concatenated string of their R Group IDs, with the values being\n",
    "    which assays have been run and their values for all assays\n",
    "    :rtype: json dict\n",
    "    \"\"\"\n",
    "\n",
    "    # The prices of each assay\n",
    "    assay_prices = {\n",
    "        \"pic50\": 70.0,\n",
    "        \"clearance_mouse\": 7000.0,\n",
    "        \"clearance_human\": 9000.0,\n",
    "        \"logd\": 1000.0,\n",
    "        \"pampa\": 700.0,\n",
    "    }\n",
    "    # How long each assay takes in weeks\n",
    "    assay_times = {\n",
    "        \"pic50\": 1.0,\n",
    "        \"clearance_mouse\": 3.0,\n",
    "        \"clearance_human\": 3.5,\n",
    "        \"logd\": 1.5,\n",
    "        \"pampa\": 1.0,\n",
    "    }\n",
    "    # r_group_1_id = request.args.get('r1')\n",
    "    # r_group_2_id = request.args.get('r2')\n",
    "    # assay_list = []\n",
    "    # Make a list of the assays being run\n",
    "    # for label in ['pic50',\n",
    "    #               'clearance_mouse',\n",
    "    #               'clearance_human',\n",
    "    #               'logd',\n",
    "    #               'pampa']:\n",
    "    #     if request.args.get(label) == \"Yes\":\n",
    "    #         assay_list.append(label)\n",
    "\n",
    "\n",
    "    drug_mol = FinalMolecule(r_group_1_id, r_group_2_id)\n",
    "    drug_properties = {label: drug_mol.drug_properties()[label] for label in assay_list}\n",
    "    molecule_key = tuple2str((r_group_1_id, r_group_2_id))\n",
    "    if molecule_key not in assayed_molecules.keys():\n",
    "        assayed_molecules[molecule_key] = drug_properties\n",
    "    else:\n",
    "        for label in assay_list:\n",
    "            assayed_molecules[molecule_key][label] = drug_properties[label]\n",
    "    if money[-1] - sum([assay_prices[p] for p in assay_list]) < 0:\n",
    "        pass\n",
    "    else:\n",
    "        money.append(money[-1] - sum([assay_prices[p] for p in assay_list]))\n",
    "    if time[-1] - max([assay_times[p] for p in assay_list]) < 0:\n",
    "        pass\n",
    "    else:\n",
    "        time.append(time[-1] - max([assay_times[p] for p in assay_list]))\n",
    "    return {\"assay_backend_data\": assayed_molecules}"
   ]
  },
  {
   "cell_type": "code",
   "execution_count": 20,
   "metadata": {},
   "outputs": [
    {
     "name": "stdout",
     "output_type": "stream",
     "text": [
      "{'assay_backend_data': {'A01B01': {'clearance_human': 'low (< 12)', 'pampa': 'low'}}}\n"
     ]
    },
    {
     "name": "stderr",
     "output_type": "stream",
     "text": [
      "/Users/guy/Documents/University_of_Oxford/SABS_YEAR_1/Drug_Discovery_Game/drug-discovery-game-backend/src/Molecule.py:246: UserWarning: Boolean Series key will be reindexed to match DataFrame index.\n",
      "  value_two = value[csv_file['btag'] == self.rgroup2][d].iloc[0]\n"
     ]
    }
   ],
   "source": [
    "result = run_assays(\"A01\", \"B01\", [\"clearance_human\", \"pampa\"])\n",
    "print(result)"
   ]
  },
  {
   "cell_type": "code",
   "execution_count": 15,
   "metadata": {},
   "outputs": [
    {
     "name": "stdout",
     "output_type": "stream",
     "text": [
      "{'pic50': '6.5', 'clearance_mouse': 'medium (5.6-30.5)', 'clearance_human': 'low (< 12)', 'logd': '0.3', 'pampa': 'low'}\n"
     ]
    },
    {
     "name": "stderr",
     "output_type": "stream",
     "text": [
      "<ipython-input-15-11184c5fc735>:17: UserWarning: Boolean Series key will be reindexed to match DataFrame index.\n",
      "  value_two = value[csv_file['btag'] == rgroup2][d].iloc[0]\n"
     ]
    }
   ],
   "source": [
    "import pandas as pd  \n",
    "csv_file = pd.read_csv('src/r_group_decomp.csv')\n",
    "rgroup1 = \"A01\"\n",
    "rgroup2 = \"B01\"\n",
    "# def drug_properties(csv_file, rgroup1, rgroup2):\n",
    "\"\"\"Selects properties of the final drug from the data.\"\"\"\n",
    "drug_properties = [\n",
    "                    'pic50',\n",
    "                    'clearance_mouse',\n",
    "                    'clearance_human',\n",
    "                    'logd',\n",
    "                    'pampa'\n",
    "                    ]\n",
    "drug_property_dict = {}\n",
    "for d in drug_properties:\n",
    "    value = csv_file[csv_file['atag'] == rgroup1]\n",
    "    value_two = value[csv_file['btag'] == rgroup2][d].iloc[0]\n",
    "    drug_property_dict[d] = value_two\n",
    "print(drug_property_dict)"
   ]
  },
  {
   "cell_type": "code",
   "execution_count": null,
   "metadata": {},
   "outputs": [],
   "source": []
  },
  {
   "cell_type": "code",
   "execution_count": null,
   "metadata": {},
   "outputs": [],
   "source": []
  }
 ],
 "metadata": {
  "interpreter": {
   "hash": "77b02c0e1da6aaff65db19a2013d155c0c3fa2151372aae34caa6d2644385446"
  },
  "kernelspec": {
   "display_name": "Python 3.8.5 64-bit ('dd_game': conda)",
   "language": "python",
   "name": "python3"
  },
  "language_info": {
   "codemirror_mode": {
    "name": "ipython",
    "version": 3
   },
   "file_extension": ".py",
   "mimetype": "text/x-python",
   "name": "python",
   "nbconvert_exporter": "python",
   "pygments_lexer": "ipython3",
   "version": "3.8.5"
  },
  "orig_nbformat": 4
 },
 "nbformat": 4,
 "nbformat_minor": 2
}
